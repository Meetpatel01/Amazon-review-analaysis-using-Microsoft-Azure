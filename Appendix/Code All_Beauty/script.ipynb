{
  "nbformat": 4,
  "nbformat_minor": 0,
  "metadata": {
    "colab": {
      "provenance": []
    },
    "kernelspec": {
      "name": "python3",
      "display_name": "Python 3"
    },
    "language_info": {
      "name": "python"
    }
  },
  "cells": [
    {
      "cell_type": "code",
      "execution_count": 1,
      "metadata": {
        "colab": {
          "base_uri": "https://localhost:8080/"
        },
        "id": "2hzLeYZzRiCX",
        "outputId": "d2e2c993-6d6c-45ed-9410-7b6e38313fb2"
      },
      "outputs": [
        {
          "output_type": "stream",
          "name": "stdout",
          "text": [
            "Loaded Reviews: (701528, 10)\n",
            "Loaded Metadata: (112590, 14)\n",
            "Merged Successfully: (701528, 23)\n",
            "Merged and cleaned CSV saved as: All_Beauty_Merged_Clean.csv\n"
          ]
        }
      ],
      "source": [
        "# Import required libraries: pandas for DataFrame handling, json for parsing JSON lines\n",
        "import pandas as pd\n",
        "import json\n",
        "\n",
        "# Function to load .jsonl files (JSON Lines format: one JSON object per line)\n",
        "def load_jsonl(file_path):\n",
        "    # Open the file and convert each line (a JSON object) into a list of dicts, then to a DataFrame\n",
        "    with open(file_path, 'r') as f:\n",
        "        return pd.DataFrame([json.loads(line) for line in f])\n",
        "\n",
        "# Load the datasets from local .jsonl files into DataFrames\n",
        "reviews_df = load_jsonl(\"All_Beauty.jsonl\")\n",
        "meta_df = load_jsonl(\"meta_All_Beauty.jsonl\")\n",
        "\n",
        "# Quick sanity checks: print (rows, columns) for each DataFrame\n",
        "print(\"Loaded Reviews:\", reviews_df.shape)\n",
        "print(\"Loaded Metadata:\", meta_df.shape)\n",
        "\n",
        "# Rename overlapping/ambiguous columns in metadata to avoid collisions after merge\n",
        "# This preserves both review fields and product metadata fields clearly\n",
        "meta_df_renamed = meta_df.rename(columns={\n",
        "    'title': 'product_title',\n",
        "    'images': 'product_images',\n",
        "    'description': 'product_description',\n",
        "    'features': 'product_features',\n",
        "    'price': 'product_price',\n",
        "    'store': 'product_store',\n",
        "    'details': 'product_details',\n",
        "    'categories': 'product_categories',\n",
        "    'videos': 'product_videos'\n",
        "})\n",
        "\n",
        "# Merge on the common key 'parent_asin'\n",
        "# Left join keeps all reviews and brings in matching product metadata when available\n",
        "if 'parent_asin' in reviews_df.columns and 'parent_asin' in meta_df_renamed.columns:\n",
        "    merged_df = pd.merge(reviews_df, meta_df_renamed, on='parent_asin', how='left')\n",
        "    print(\"Merged Successfully:\", merged_df.shape)\n",
        "else:\n",
        "    # Fail early with a clear message if the join key is missing in either DataFrame\n",
        "    raise KeyError(\" 'parent_asin' not found in both DataFrames.\")\n",
        "\n",
        "# Persist the merged dataset to a CSV file for downstream ingestion (e.g., Bronze layer copy)\n",
        "merged_df.to_csv(\"All_Beauty_Merged_Clean.csv\", index=False)\n",
        "print(\"Merged and cleaned CSV saved as: All_Beauty_Merged_Clean.csv\")\n"
      ]
    }
  ]
}